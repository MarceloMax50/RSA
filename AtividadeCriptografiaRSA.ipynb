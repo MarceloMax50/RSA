{
  "nbformat": 4,
  "nbformat_minor": 0,
  "metadata": {
    "colab": {
      "name": "AtividadeCriptografiaRSA.ipynb",
      "provenance": [],
      "collapsed_sections": [],
      "authorship_tag": "ABX9TyMuQoCsXSkTMRgtU0fyJFay",
      "include_colab_link": true
    },
    "kernelspec": {
      "name": "python3",
      "display_name": "Python 3"
    },
    "language_info": {
      "name": "python"
    }
  },
  "cells": [
    {
      "cell_type": "markdown",
      "metadata": {
        "id": "view-in-github",
        "colab_type": "text"
      },
      "source": [
        "<a href=\"https://colab.research.google.com/github/MarceloMax50/RSA/blob/main/AtividadeCriptografiaRSA.ipynb\" target=\"_parent\"><img src=\"https://colab.research.google.com/assets/colab-badge.svg\" alt=\"Open In Colab\"/></a>"
      ]
    },
    {
      "cell_type": "markdown",
      "source": [
        "#Integrantes:\n",
        "\n",
        "Alipio Danilo da Silva - 082170001, \n",
        "\n",
        "Bruno de Sousa Silva - 082170034,\n",
        "\n",
        "Leandro Fernandes Vieira - 082170013,\n",
        "\n",
        "Marcelo Max Melo da Costa - 082170021"
      ],
      "metadata": {
        "id": "rcFCE2f22NDr"
      }
    },
    {
      "cell_type": "markdown",
      "source": [
        "\n",
        "\n",
        "\n",
        "Calcula o totiente do numero primo:\n",
        "\n"
      ],
      "metadata": {
        "id": "tZQHr_yFGk4l"
      }
    },
    {
      "cell_type": "code",
      "source": [
        "\n",
        "def totient(number): \n",
        "    if(prime(number)):\n",
        "        return number-1\n",
        "    else:\n",
        "        return False"
      ],
      "metadata": {
        "id": "gQmu2DAIDuo7"
      },
      "execution_count": null,
      "outputs": []
    },
    {
      "cell_type": "markdown",
      "source": [
        "Verifica se um numero gerado é primo:"
      ],
      "metadata": {
        "id": "1utoXsANJXd_"
      }
    },
    {
      "cell_type": "code",
      "source": [
        "\n",
        "def prime(n):\n",
        "    if (n <= 1):\n",
        "        return False\n",
        "    if (n <= 3):\n",
        "        return True\n",
        "\n",
        "    if (n%2 == 0 or n%3 == 0):\n",
        "        return False\n",
        "\n",
        "    i = 5\n",
        "    while(i * i <= n):\n",
        "        if (n%i == 0 or n%(i+2) == 0):\n",
        "           return False\n",
        "        i+=6\n",
        "    return True"
      ],
      "metadata": {
        "id": "TlfIz-XoD2G2"
      },
      "execution_count": null,
      "outputs": []
    },
    {
      "cell_type": "markdown",
      "source": [
        "Gera um numero aleatório E:"
      ],
      "metadata": {
        "id": "1viY5F1_JksM"
      }
    },
    {
      "cell_type": "code",
      "source": [
        "def generate_E(num): \n",
        "    def mdc(n1,n2):\n",
        "        rest = 1\n",
        "        while(n2 != 0):\n",
        "            rest = n1%n2\n",
        "            n1 = n2\n",
        "            n2 = rest\n",
        "        return n1\n",
        "\n",
        "    while True:\n",
        "        e = random.randrange(2,num) \n",
        "        if(mdc(num,e) == 1):\n",
        "            return e\n"
      ],
      "metadata": {
        "id": "3nrGm5xAENoq"
      },
      "execution_count": null,
      "outputs": []
    },
    {
      "cell_type": "markdown",
      "source": [
        "\n",
        "Gera um numero primo aleatório:"
      ],
      "metadata": {
        "id": "6ziEBAiSJrtw"
      }
    },
    {
      "cell_type": "code",
      "source": [
        "def generate_prime(): \n",
        "    while True: \n",
        "        x=random.randrange(1,100) \n",
        "        if(prime(x)==True):\n",
        "            return x"
      ],
      "metadata": {
        "id": "wRHInxD9EcX9"
      },
      "execution_count": null,
      "outputs": []
    },
    {
      "cell_type": "markdown",
      "source": [
        "Função modular entre dois números:\n"
      ],
      "metadata": {
        "id": "bPxlWnirJ08p"
      }
    },
    {
      "cell_type": "code",
      "source": [
        "def mod(a,b):\n",
        "    if(a<b):\n",
        "        return a\n",
        "    else:\n",
        "        c=a%b\n",
        "        return c"
      ],
      "metadata": {
        "id": "jxbBpmEPEfvS"
      },
      "execution_count": null,
      "outputs": []
    },
    {
      "cell_type": "markdown",
      "source": [
        "Criptografa um texto:"
      ],
      "metadata": {
        "id": "tD3D4MOdKDS6"
      }
    },
    {
      "cell_type": "code",
      "source": [
        "def cipher(words,e,n):\n",
        "    tam = len(words)\n",
        "    i = 0\n",
        "    lista = []\n",
        "    while(i < tam):\n",
        "        letter = words[i]\n",
        "        k = ord(letter)\n",
        "        k = k**e\n",
        "        d = mod(k,n)\n",
        "        lista.append(d)\n",
        "        i += 1\n",
        "    return lista"
      ],
      "metadata": {
        "id": "l-1DC8EbEoB8"
      },
      "execution_count": null,
      "outputs": []
    },
    {
      "cell_type": "markdown",
      "source": [
        "\n",
        "Decriptografar um texto criptografado:\n"
      ],
      "metadata": {
        "id": "K8GY_XT0Kdny"
      }
    },
    {
      "cell_type": "code",
      "source": [
        "def descifra(cifra,n,d):\n",
        "    lista = []\n",
        "    i = 0\n",
        "    tamanho = len(cifra)\n",
        "    # texto=cifra ^ d mod n\n",
        "    while i < tamanho:\n",
        "        result = cifra[i]**d\n",
        "        texto = mod(result,n)\n",
        "        letra = chr(texto)\n",
        "        lista.append(letra)\n",
        "        i += 1\n",
        "    return lista"
      ],
      "metadata": {
        "id": "u8uoaqq3Eq_s"
      },
      "execution_count": null,
      "outputs": []
    },
    {
      "cell_type": "markdown",
      "source": [
        "\n",
        "Calcula a chave privada:"
      ],
      "metadata": {
        "id": "DpOIlvSkKrGS"
      }
    },
    {
      "cell_type": "code",
      "source": [
        "def calculate_private_key(toti,e):\n",
        "    d = 0\n",
        "    while(mod(d*e,toti)!=1):\n",
        "        d += 1\n",
        "    return d"
      ],
      "metadata": {
        "id": "jN2PWcXQEtz1"
      },
      "execution_count": null,
      "outputs": []
    },
    {
      "cell_type": "markdown",
      "source": [
        "Inicio:"
      ],
      "metadata": {
        "id": "-_7LYdYSLABL"
      }
    },
    {
      "cell_type": "code",
      "source": [
        "import random\n",
        "text = input(\"Insert message: \")\n",
        "p = generate_prime()\n",
        "q = generate_prime()\n",
        "n = p*q \n",
        "y = totient(p)\n",
        "x = totient(q)\n",
        "totient_de_N = x*y\n",
        "e = generate_E(totient_de_N)\n",
        "public_key = (n, e)\n",
        "\n",
        "print('Your public key:', public_key)\n",
        "text_cipher = cipher(text,e,n)\n",
        "print('Your encrypted message:', text_cipher)\n",
        "d = calculate_private_key(totient_de_N,e)\n",
        "print('Your private key is:', d)\n",
        "original_text = descifra(text_cipher,n,d)\n",
        "print('your original message:', original_text)"
      ],
      "metadata": {
        "id": "qRhdOdv7DX98",
        "outputId": "68805b77-47bc-4d7f-95a3-1af7ed256594",
        "colab": {
          "base_uri": "https://localhost:8080/"
        }
      },
      "execution_count": null,
      "outputs": [
        {
          "output_type": "stream",
          "name": "stdout",
          "text": [
            "Insert message: The information security is of significant importance to ensure the privacy of communications\n",
            "Your public key: (2279, 725)\n",
            "Your encrypted message: [403, 1252, 1364, 2086, 158, 1089, 2197, 597, 1216, 2175, 1268, 1181, 158, 597, 1089, 2086, 1753, 1364, 195, 963, 1216, 158, 1181, 1989, 2086, 158, 1753, 2086, 597, 2197, 2086, 1753, 158, 1959, 1089, 158, 2197, 158, 195, 1268, 1089, 1181, 2086, 158, 2175, 1524, 597, 1216, 1181, 1268, 1089, 195, 1364, 2086, 1181, 597, 2086, 1364, 1089, 1753, 963, 1216, 1364, 2086, 1181, 1252, 1364, 2086, 1524, 1216, 158, 323, 1268, 195, 1989, 2086, 597, 2197, 2086, 195, 597, 2175, 2175, 963, 1089, 158, 195, 1268, 1181, 158, 597, 1089, 1753]\n",
            "Your private key is: 485\n",
            "your original message: ['T', 'h', 'e', ' ', 'i', 'n', 'f', 'o', 'r', 'm', 'a', 't', 'i', 'o', 'n', ' ', 's', 'e', 'c', 'u', 'r', 'i', 't', 'y', ' ', 'i', 's', ' ', 'o', 'f', ' ', 's', 'i', 'g', 'n', 'i', 'f', 'i', 'c', 'a', 'n', 't', ' ', 'i', 'm', 'p', 'o', 'r', 't', 'a', 'n', 'c', 'e', ' ', 't', 'o', ' ', 'e', 'n', 's', 'u', 'r', 'e', ' ', 't', 'h', 'e', ' ', 'p', 'r', 'i', 'v', 'a', 'c', 'y', ' ', 'o', 'f', ' ', 'c', 'o', 'm', 'm', 'u', 'n', 'i', 'c', 'a', 't', 'i', 'o', 'n', 's']\n"
          ]
        }
      ]
    }
  ]
}